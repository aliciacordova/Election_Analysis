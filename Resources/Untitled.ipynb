{
 "cells": [
  {
   "cell_type": "code",
   "execution_count": 1,
   "id": "dfafb7eb",
   "metadata": {},
   "outputs": [],
   "source": [
    "import csv\n",
    "\n",
    "file_to_load= \"C:/Users/cordovaa/Election_Analysis/Resources/election_results.csv\""
   ]
  },
  {
   "cell_type": "code",
   "execution_count": 2,
   "id": "f35d2111",
   "metadata": {},
   "outputs": [
    {
     "name": "stdout",
     "output_type": "stream",
     "text": [
      "<_io.TextIOWrapper name='C:/Users/cordovaa/Election_Analysis/Resources/election_results.csv' mode='r' encoding='cp1252'>\n"
     ]
    }
   ],
   "source": [
    "with open (file_to_load) as election_data:\n",
    "    print(election_data)"
   ]
  },
  {
   "cell_type": "code",
   "execution_count": 4,
   "id": "d4296fc1",
   "metadata": {},
   "outputs": [],
   "source": [
    "election_data = open(file_to_load, 'r')\n"
   ]
  },
  {
   "cell_type": "code",
   "execution_count": 5,
   "id": "c5b5df87",
   "metadata": {},
   "outputs": [],
   "source": [
    "election_data.close()"
   ]
  },
  {
   "cell_type": "code",
   "execution_count": 6,
   "id": "03d3aa55",
   "metadata": {},
   "outputs": [
    {
     "name": "stdout",
     "output_type": "stream",
     "text": [
      "<_io.TextIOWrapper name='C:/Users/cordovaa/Election_Analysis/Resources/election_results.csv' mode='r' encoding='cp1252'>\n"
     ]
    }
   ],
   "source": [
    "with open (file_to_load) as election_data:\n",
    "    print(election_data)"
   ]
  },
  {
   "cell_type": "code",
   "execution_count": 9,
   "id": "173edac6",
   "metadata": {},
   "outputs": [],
   "source": [
    "import csv\n",
    "\n",
    "file_to_load= \"C:/Users/cordovaa/Election_Analysis/Resources/election_results.csv\""
   ]
  },
  {
   "cell_type": "code",
   "execution_count": 10,
   "id": "45b02879",
   "metadata": {},
   "outputs": [
    {
     "name": "stdout",
     "output_type": "stream",
     "text": [
      "<_io.TextIOWrapper name='C:/Users/cordovaa/Election_Analysis/Resources/election_results.csv' mode='r' encoding='cp1252'>\n"
     ]
    }
   ],
   "source": [
    "with open (file_to_load) as election_data:\n",
    "    print(election_data)"
   ]
  },
  {
   "cell_type": "code",
   "execution_count": 12,
   "id": "30e0ad79",
   "metadata": {},
   "outputs": [
    {
     "data": {
      "text/plain": [
       "['DirEntry',\n",
       " 'F_OK',\n",
       " 'MutableMapping',\n",
       " 'O_APPEND',\n",
       " 'O_BINARY',\n",
       " 'O_CREAT',\n",
       " 'O_EXCL',\n",
       " 'O_NOINHERIT',\n",
       " 'O_RANDOM',\n",
       " 'O_RDONLY',\n",
       " 'O_RDWR',\n",
       " 'O_SEQUENTIAL',\n",
       " 'O_SHORT_LIVED',\n",
       " 'O_TEMPORARY',\n",
       " 'O_TEXT',\n",
       " 'O_TRUNC',\n",
       " 'O_WRONLY',\n",
       " 'P_DETACH',\n",
       " 'P_NOWAIT',\n",
       " 'P_NOWAITO',\n",
       " 'P_OVERLAY',\n",
       " 'P_WAIT',\n",
       " 'PathLike',\n",
       " 'R_OK',\n",
       " 'SEEK_CUR',\n",
       " 'SEEK_END',\n",
       " 'SEEK_SET',\n",
       " 'TMP_MAX',\n",
       " 'W_OK',\n",
       " 'X_OK',\n",
       " '_AddedDllDirectory',\n",
       " '_Environ',\n",
       " '__all__',\n",
       " '__builtins__',\n",
       " '__cached__',\n",
       " '__doc__',\n",
       " '__file__',\n",
       " '__loader__',\n",
       " '__name__',\n",
       " '__package__',\n",
       " '__spec__',\n",
       " '_check_methods',\n",
       " '_execvpe',\n",
       " '_exists',\n",
       " '_exit',\n",
       " '_fspath',\n",
       " '_get_exports_list',\n",
       " '_putenv',\n",
       " '_unsetenv',\n",
       " '_wrap_close',\n",
       " 'abc',\n",
       " 'abort',\n",
       " 'access',\n",
       " 'add_dll_directory',\n",
       " 'altsep',\n",
       " 'chdir',\n",
       " 'chmod',\n",
       " 'close',\n",
       " 'closerange',\n",
       " 'cpu_count',\n",
       " 'curdir',\n",
       " 'defpath',\n",
       " 'device_encoding',\n",
       " 'devnull',\n",
       " 'dup',\n",
       " 'dup2',\n",
       " 'environ',\n",
       " 'error',\n",
       " 'execl',\n",
       " 'execle',\n",
       " 'execlp',\n",
       " 'execlpe',\n",
       " 'execv',\n",
       " 'execve',\n",
       " 'execvp',\n",
       " 'execvpe',\n",
       " 'extsep',\n",
       " 'fdopen',\n",
       " 'fsdecode',\n",
       " 'fsencode',\n",
       " 'fspath',\n",
       " 'fstat',\n",
       " 'fsync',\n",
       " 'ftruncate',\n",
       " 'get_exec_path',\n",
       " 'get_handle_inheritable',\n",
       " 'get_inheritable',\n",
       " 'get_terminal_size',\n",
       " 'getcwd',\n",
       " 'getcwdb',\n",
       " 'getenv',\n",
       " 'getlogin',\n",
       " 'getpid',\n",
       " 'getppid',\n",
       " 'isatty',\n",
       " 'kill',\n",
       " 'linesep',\n",
       " 'link',\n",
       " 'listdir',\n",
       " 'lseek',\n",
       " 'lstat',\n",
       " 'makedirs',\n",
       " 'mkdir',\n",
       " 'name',\n",
       " 'open',\n",
       " 'pardir',\n",
       " 'path',\n",
       " 'pathsep',\n",
       " 'pipe',\n",
       " 'popen',\n",
       " 'putenv',\n",
       " 'read',\n",
       " 'readlink',\n",
       " 'remove',\n",
       " 'removedirs',\n",
       " 'rename',\n",
       " 'renames',\n",
       " 'replace',\n",
       " 'rmdir',\n",
       " 'scandir',\n",
       " 'sep',\n",
       " 'set_handle_inheritable',\n",
       " 'set_inheritable',\n",
       " 'spawnl',\n",
       " 'spawnle',\n",
       " 'spawnv',\n",
       " 'spawnve',\n",
       " 'st',\n",
       " 'startfile',\n",
       " 'stat',\n",
       " 'stat_result',\n",
       " 'statvfs_result',\n",
       " 'strerror',\n",
       " 'supports_bytes_environ',\n",
       " 'supports_dir_fd',\n",
       " 'supports_effective_ids',\n",
       " 'supports_fd',\n",
       " 'supports_follow_symlinks',\n",
       " 'symlink',\n",
       " 'sys',\n",
       " 'system',\n",
       " 'terminal_size',\n",
       " 'times',\n",
       " 'times_result',\n",
       " 'truncate',\n",
       " 'umask',\n",
       " 'uname_result',\n",
       " 'unlink',\n",
       " 'urandom',\n",
       " 'utime',\n",
       " 'waitpid',\n",
       " 'walk',\n",
       " 'write']"
      ]
     },
     "execution_count": 12,
     "metadata": {},
     "output_type": "execute_result"
    }
   ],
   "source": [
    ">>> import os\n",
    ">>> dir(os)\n"
   ]
  },
  {
   "cell_type": "code",
   "execution_count": 13,
   "id": "ab99232f",
   "metadata": {},
   "outputs": [
    {
     "name": "stdout",
     "output_type": "stream",
     "text": [
      "<_io.TextIOWrapper name='C:/Users/cordovaa/Election_Analysis/Resources\\\\election_results.csv' mode='r' encoding='cp1252'>\n"
     ]
    }
   ],
   "source": [
    "file_to_load = os.path.join(\"C:/Users/cordovaa/Election_Analysis/Resources\", \"election_results.csv\")\n",
    "with open(file_to_load) as election_data:\n",
    "    print(election_data)"
   ]
  },
  {
   "cell_type": "code",
   "execution_count": 16,
   "id": "3d45ea6d",
   "metadata": {},
   "outputs": [
    {
     "name": "stdout",
     "output_type": "stream",
     "text": [
      "<_io.TextIOWrapper name='C:/Users/cordovaa/Election_Analysis/Resources\\\\election_results.csv' mode='r' encoding='cp1252'>\n"
     ]
    }
   ],
   "source": [
    "file_to_load = os.path.join(\"C:/Users/cordovaa/Election_Analysis/Resources\", \"election_results.csv\")\n",
    "with open(file_to_load) as election_data:\n",
    "    print(election_data)"
   ]
  },
  {
   "cell_type": "code",
   "execution_count": 18,
   "id": "7696e799",
   "metadata": {},
   "outputs": [
    {
     "data": {
      "text/plain": [
       "<_io.TextIOWrapper name='C:/Users/cordovaa/Election_Analysis/analysis\\\\election_analysis.txt' mode='w' encoding='cp1252'>"
      ]
     },
     "execution_count": 18,
     "metadata": {},
     "output_type": "execute_result"
    }
   ],
   "source": [
    "file_to_save = os.path.join(\"C:/Users/cordovaa/Election_Analysis/analysis\", \"election_analysis.txt\")\n",
    "open(file_to_save, \"w\")"
   ]
  },
  {
   "cell_type": "code",
   "execution_count": 22,
   "id": "aaa79034",
   "metadata": {},
   "outputs": [],
   "source": [
    "file_to_save = os.path.join(\"analysis\", \"election_analysis.txt\")"
   ]
  },
  {
   "cell_type": "code",
   "execution_count": 24,
   "id": "521f16b4",
   "metadata": {},
   "outputs": [
    {
     "name": "stdout",
     "output_type": "stream",
     "text": [
      "<_io.TextIOWrapper name='C:/Users/cordovaa/Election_Analysis/Resources\\\\election_results.csv' mode='r' encoding='cp1252'>\n"
     ]
    }
   ],
   "source": [
    "with open(file_to_load) as election_data:\n",
    "    print(election_data)"
   ]
  },
  {
   "cell_type": "code",
   "execution_count": 25,
   "id": "238f3c09",
   "metadata": {},
   "outputs": [
    {
     "ename": "ValueError",
     "evalue": "I/O operation on closed file.",
     "output_type": "error",
     "traceback": [
      "\u001b[1;31m---------------------------------------------------------------------------\u001b[0m",
      "\u001b[1;31mValueError\u001b[0m                                Traceback (most recent call last)",
      "\u001b[1;32m<ipython-input-25-483d23dd16fd>\u001b[0m in \u001b[0;36m<module>\u001b[1;34m\u001b[0m\n\u001b[1;32m----> 1\u001b[1;33m \u001b[0mfile_reader\u001b[0m \u001b[1;33m=\u001b[0m \u001b[0mcsv\u001b[0m\u001b[1;33m.\u001b[0m\u001b[0mreader\u001b[0m\u001b[1;33m(\u001b[0m\u001b[0melection_data\u001b[0m\u001b[1;33m)\u001b[0m\u001b[1;33m\u001b[0m\u001b[1;33m\u001b[0m\u001b[0m\n\u001b[0m",
      "\u001b[1;31mValueError\u001b[0m: I/O operation on closed file."
     ]
    }
   ],
   "source": [
    "file_reader = csv.reader(election_data)"
   ]
  },
  {
   "cell_type": "code",
   "execution_count": null,
   "id": "e9751c55",
   "metadata": {},
   "outputs": [],
   "source": []
  }
 ],
 "metadata": {
  "kernelspec": {
   "display_name": "Python 3",
   "language": "python",
   "name": "python3"
  },
  "language_info": {
   "codemirror_mode": {
    "name": "ipython",
    "version": 3
   },
   "file_extension": ".py",
   "mimetype": "text/x-python",
   "name": "python",
   "nbconvert_exporter": "python",
   "pygments_lexer": "ipython3",
   "version": "3.8.8"
  }
 },
 "nbformat": 4,
 "nbformat_minor": 5
}
